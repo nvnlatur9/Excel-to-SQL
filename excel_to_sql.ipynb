{
 "cells": [
  {
   "cell_type": "code",
   "execution_count": 1,
   "metadata": {},
   "outputs": [
    {
     "data": {
      "text/html": [
       "<div>\n",
       "<style scoped>\n",
       "    .dataframe tbody tr th:only-of-type {\n",
       "        vertical-align: middle;\n",
       "    }\n",
       "\n",
       "    .dataframe tbody tr th {\n",
       "        vertical-align: top;\n",
       "    }\n",
       "\n",
       "    .dataframe thead th {\n",
       "        text-align: right;\n",
       "    }\n",
       "</style>\n",
       "<table border=\"1\" class=\"dataframe\">\n",
       "  <thead>\n",
       "    <tr style=\"text-align: right;\">\n",
       "      <th></th>\n",
       "      <th>Unnamed: 0</th>\n",
       "      <th>year</th>\n",
       "      <th>population</th>\n",
       "      <th>Commer_Gas_Consumption_Emission</th>\n",
       "      <th>Distribution_of_Gas_Emission</th>\n",
       "      <th>Vehicular_Emissions</th>\n",
       "      <th>Railway_Emissions</th>\n",
       "      <th>Boating_Emissions</th>\n",
       "      <th>Aviation_Emissions</th>\n",
       "      <th>SolidWaste_Emissions</th>\n",
       "      <th>WasteWater_Treatment_Emissions</th>\n",
       "      <th>Total_emissions</th>\n",
       "    </tr>\n",
       "  </thead>\n",
       "  <tbody>\n",
       "    <tr>\n",
       "      <th>0</th>\n",
       "      <td>0</td>\n",
       "      <td>2019</td>\n",
       "      <td>178955</td>\n",
       "      <td>170602</td>\n",
       "      <td>42678</td>\n",
       "      <td>570176</td>\n",
       "      <td>4396</td>\n",
       "      <td>77915</td>\n",
       "      <td>42</td>\n",
       "      <td>284576</td>\n",
       "      <td>7847</td>\n",
       "      <td>1158232</td>\n",
       "    </tr>\n",
       "    <tr>\n",
       "      <th>1</th>\n",
       "      <td>1</td>\n",
       "      <td>2018</td>\n",
       "      <td>169961</td>\n",
       "      <td>165523</td>\n",
       "      <td>41759</td>\n",
       "      <td>534450</td>\n",
       "      <td>4396</td>\n",
       "      <td>75427</td>\n",
       "      <td>42</td>\n",
       "      <td>278212</td>\n",
       "      <td>7580</td>\n",
       "      <td>1107389</td>\n",
       "    </tr>\n",
       "  </tbody>\n",
       "</table>\n",
       "</div>"
      ],
      "text/plain": [
       "   Unnamed: 0  year  population  Commer_Gas_Consumption_Emission  \\\n",
       "0           0  2019      178955                           170602   \n",
       "1           1  2018      169961                           165523   \n",
       "\n",
       "   Distribution_of_Gas_Emission  Vehicular_Emissions  Railway_Emissions  \\\n",
       "0                         42678               570176               4396   \n",
       "1                         41759               534450               4396   \n",
       "\n",
       "   Boating_Emissions  Aviation_Emissions  SolidWaste_Emissions  \\\n",
       "0              77915                  42                284576   \n",
       "1              75427                  42                278212   \n",
       "\n",
       "   WasteWater_Treatment_Emissions  Total_emissions  \n",
       "0                            7847          1158232  \n",
       "1                            7580          1107389  "
      ]
     },
     "execution_count": 1,
     "metadata": {},
     "output_type": "execute_result"
    }
   ],
   "source": [
    "import pandas as pd\n",
    "emi_df = pd.read_csv(\"Emission data.csv\")\n",
    "emi_df.head(2)"
   ]
  },
  {
   "cell_type": "code",
   "execution_count": 2,
   "metadata": {},
   "outputs": [
    {
     "name": "stdout",
     "output_type": "stream",
     "text": [
      "['year', 'population', 'Commer_Gas_Consumption_Emission', 'Distribution_of_Gas_Emission', 'Vehicular_Emissions', 'Railway_Emissions', 'Boating_Emissions', 'Aviation_Emissions', 'SolidWaste_Emissions', 'WasteWater_Treatment_Emissions', 'Total_emissions']\n"
     ]
    }
   ],
   "source": [
    "cols = list(emi_df.columns)\n",
    "cols.pop(0)\n",
    "print(cols)"
   ]
  },
  {
   "cell_type": "code",
   "execution_count": 3,
   "metadata": {},
   "outputs": [],
   "source": [
    "f = open(\"Query1.txt\", \"a\")\n",
    "str_cols = str(cols)\n",
    "str_cols = str_cols.replace(\"[\",\"(\")\n",
    "str_cols = str_cols.replace(\"]\",\")\")\n",
    "for i in emi_df.index:\n",
    "    \n",
    "    f.write(\"INSERT INTO `emissions` \")\n",
    "    f.write(\" VALUES (\")\n",
    "    f.write(str(emi_df.iloc[i]['year']) + \", \" + str(emi_df.iloc[i]['population'])+\", \"+ str(emi_df.iloc[i]['Commer_Gas_Consumption_Emission'])+\", \"+\n",
    "           str(emi_df.iloc[i]['Distribution_of_Gas_Emission']) + \", \" +str(emi_df.iloc[i]['Vehicular_Emissions'])+ \", \" + str(emi_df.iloc[i]['Railway_Emissions'])+\", \"+ \n",
    "            str(emi_df.iloc[i]['Boating_Emissions'])+ \", \" + str(emi_df.iloc[i]['Aviation_Emissions']) + \", \" +str(emi_df.iloc[i]['SolidWaste_Emissions'])+\", \"+\n",
    "            str(emi_df.iloc[i]['WasteWater_Treatment_Emissions'])+ \", \" + str(emi_df.iloc[i]['Total_emissions']))\n",
    "    f.write(str(\");\"))\n",
    "    f.write(\"\\n\")\n",
    "f.close()    "
   ]
  },
  {
   "cell_type": "code",
   "execution_count": 4,
   "metadata": {},
   "outputs": [
    {
     "data": {
      "text/html": [
       "<div>\n",
       "<style scoped>\n",
       "    .dataframe tbody tr th:only-of-type {\n",
       "        vertical-align: middle;\n",
       "    }\n",
       "\n",
       "    .dataframe tbody tr th {\n",
       "        vertical-align: top;\n",
       "    }\n",
       "\n",
       "    .dataframe thead th {\n",
       "        text-align: right;\n",
       "    }\n",
       "</style>\n",
       "<table border=\"1\" class=\"dataframe\">\n",
       "  <thead>\n",
       "    <tr style=\"text-align: right;\">\n",
       "      <th></th>\n",
       "      <th>Unnamed: 0</th>\n",
       "      <th>Year</th>\n",
       "      <th>Sea-surface temperature</th>\n",
       "      <th>Surface air temperature</th>\n",
       "    </tr>\n",
       "  </thead>\n",
       "  <tbody>\n",
       "    <tr>\n",
       "      <th>0</th>\n",
       "      <td>90</td>\n",
       "      <td>2000</td>\n",
       "      <td>0.35</td>\n",
       "      <td>-0.15</td>\n",
       "    </tr>\n",
       "    <tr>\n",
       "      <th>1</th>\n",
       "      <td>91</td>\n",
       "      <td>2001</td>\n",
       "      <td>0.40</td>\n",
       "      <td>-0.06</td>\n",
       "    </tr>\n",
       "  </tbody>\n",
       "</table>\n",
       "</div>"
      ],
      "text/plain": [
       "   Unnamed: 0  Year  Sea-surface temperature   Surface air temperature\n",
       "0          90  2000                      0.35                    -0.15\n",
       "1          91  2001                      0.40                    -0.06"
      ]
     },
     "execution_count": 4,
     "metadata": {},
     "output_type": "execute_result"
    }
   ],
   "source": [
    "se_df = pd.read_csv(\"Sea and Land Temp data.csv\")\n",
    "se_df.head(2)"
   ]
  },
  {
   "cell_type": "code",
   "execution_count": 5,
   "metadata": {},
   "outputs": [
    {
     "name": "stdout",
     "output_type": "stream",
     "text": [
      "('Year', 'sea_temp', 'land_air_temp')\n"
     ]
    }
   ],
   "source": [
    "cols1 = ['Year', 'sea_temp', 'land_air_temp']\n",
    "f1 = open(\"Query2.txt\", \"a\")\n",
    "str_cols1 = str(cols1)\n",
    "str_cols1 = str_cols1.replace(\"[\",\"(\")\n",
    "str_cols1 = str_cols1.replace(\"]\",\")\")\n",
    "print(str_cols1)\n",
    "for i in se_df.index:  \n",
    "    f1.write(\"INSERT INTO `SeaLandTemp` \")\n",
    "    f1.write(\" VALUES (\")\n",
    "    f1.write(str(se_df.iloc[i]['Year']) +\", \"+str(se_df.iloc[i]['Sea-surface temperature ']) +\", \"+ str(se_df.iloc[i]['Surface air temperature'] ))\n",
    "    f1.write(str(\");\"))\n",
    "    f1.write(\"\\n\")\n",
    "f1.close()  "
   ]
  },
  {
   "cell_type": "code",
   "execution_count": 6,
   "metadata": {},
   "outputs": [
    {
     "data": {
      "text/html": [
       "<div>\n",
       "<style scoped>\n",
       "    .dataframe tbody tr th:only-of-type {\n",
       "        vertical-align: middle;\n",
       "    }\n",
       "\n",
       "    .dataframe tbody tr th {\n",
       "        vertical-align: top;\n",
       "    }\n",
       "\n",
       "    .dataframe thead th {\n",
       "        text-align: right;\n",
       "    }\n",
       "</style>\n",
       "<table border=\"1\" class=\"dataframe\">\n",
       "  <thead>\n",
       "    <tr style=\"text-align: right;\">\n",
       "      <th></th>\n",
       "      <th>Unnamed: 0</th>\n",
       "      <th>Year</th>\n",
       "      <th>Avg_rain</th>\n",
       "      <th>Avg_Temp</th>\n",
       "    </tr>\n",
       "  </thead>\n",
       "  <tbody>\n",
       "    <tr>\n",
       "      <th>0</th>\n",
       "      <td>0</td>\n",
       "      <td>2000</td>\n",
       "      <td>33.61</td>\n",
       "      <td>45.98</td>\n",
       "    </tr>\n",
       "    <tr>\n",
       "      <th>1</th>\n",
       "      <td>1</td>\n",
       "      <td>2001</td>\n",
       "      <td>24.13</td>\n",
       "      <td>45.06</td>\n",
       "    </tr>\n",
       "  </tbody>\n",
       "</table>\n",
       "</div>"
      ],
      "text/plain": [
       "   Unnamed: 0  Year  Avg_rain  Avg_Temp\n",
       "0           0  2000     33.61     45.98\n",
       "1           1  2001     24.13     45.06"
      ]
     },
     "execution_count": 6,
     "metadata": {},
     "output_type": "execute_result"
    }
   ],
   "source": [
    "se_df1 = pd.read_csv(\"Rainfall and Temperature data.csv\")\n",
    "se_df1.head(2)"
   ]
  },
  {
   "cell_type": "code",
   "execution_count": 7,
   "metadata": {},
   "outputs": [],
   "source": [
    "cols2 = ['Year', 'avg_rainfall', 'avg_temperature']\n",
    "f2 = open(\"Query3.txt\", \"a\")\n",
    "str_cols2 = str(cols2)\n",
    "str_cols2 = str_cols2.replace(\"[\",\"(\")\n",
    "str_cols2 = str_cols2.replace(\"]\",\")\")\n",
    "for i in se_df1.index:\n",
    "    \n",
    "    f2.write(\"INSERT INTO `Avg_Rainfall_Temperture` \")\n",
    "    f2.write(\" VALUES (\")\n",
    "    f2.write(str(se_df1.iloc[i]['Year']) +\", \"+str(se_df1.iloc[i]['Avg_rain']) +\", \"+ str(se_df1.iloc[i]['Avg_Temp'] ))\n",
    "    f2.write(str(\");\"))\n",
    "    f2.write(\"\\n\")\n",
    "f2.close()"
   ]
  }
 ],
 "metadata": {
  "kernelspec": {
   "display_name": "Python 3",
   "language": "python",
   "name": "python3"
  },
  "language_info": {
   "codemirror_mode": {
    "name": "ipython",
    "version": 3
   },
   "file_extension": ".py",
   "mimetype": "text/x-python",
   "name": "python",
   "nbconvert_exporter": "python",
   "pygments_lexer": "ipython3",
   "version": "3.7.3"
  }
 },
 "nbformat": 4,
 "nbformat_minor": 2
}
